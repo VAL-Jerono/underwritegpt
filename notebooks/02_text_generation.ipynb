{
 "cells": [
  {
   "cell_type": "markdown",
   "id": "59346d08",
   "metadata": {},
   "source": [
    "# Create Human-Readable Summaries"
   ]
  },
  {
   "cell_type": "markdown",
   "id": "e4e7a74c",
   "metadata": {},
   "source": [
    "## 1. Load Cleaned Data"
   ]
  },
  {
   "cell_type": "code",
   "execution_count": 1,
   "id": "166fb87d",
   "metadata": {},
   "outputs": [
    {
     "name": "stdout",
     "output_type": "stream",
     "text": [
      "Loaded 58592 policies\n"
     ]
    },
    {
     "data": {
      "text/html": [
       "<div>\n",
       "<style scoped>\n",
       "    .dataframe tbody tr th:only-of-type {\n",
       "        vertical-align: middle;\n",
       "    }\n",
       "\n",
       "    .dataframe tbody tr th {\n",
       "        vertical-align: top;\n",
       "    }\n",
       "\n",
       "    .dataframe thead th {\n",
       "        text-align: right;\n",
       "    }\n",
       "</style>\n",
       "<table border=\"1\" class=\"dataframe\">\n",
       "  <thead>\n",
       "    <tr style=\"text-align: right;\">\n",
       "      <th></th>\n",
       "      <th>policy_id</th>\n",
       "      <th>subscription_length</th>\n",
       "      <th>vehicle_age</th>\n",
       "      <th>customer_age</th>\n",
       "      <th>region_code</th>\n",
       "      <th>region_density</th>\n",
       "      <th>segment</th>\n",
       "      <th>model</th>\n",
       "      <th>fuel_type</th>\n",
       "      <th>max_torque</th>\n",
       "      <th>...</th>\n",
       "      <th>is_power_steering</th>\n",
       "      <th>is_driver_seat_height_adjustable</th>\n",
       "      <th>is_day_night_rear_view_mirror</th>\n",
       "      <th>is_ecw</th>\n",
       "      <th>is_speed_alert</th>\n",
       "      <th>ncap_rating</th>\n",
       "      <th>claim_status</th>\n",
       "      <th>safety_score</th>\n",
       "      <th>age_risk</th>\n",
       "      <th>vehicle_age_category</th>\n",
       "    </tr>\n",
       "  </thead>\n",
       "  <tbody>\n",
       "    <tr>\n",
       "      <th>0</th>\n",
       "      <td>POL045360</td>\n",
       "      <td>9.3</td>\n",
       "      <td>1.2</td>\n",
       "      <td>41</td>\n",
       "      <td>C8</td>\n",
       "      <td>8794</td>\n",
       "      <td>C2</td>\n",
       "      <td>M4</td>\n",
       "      <td>Diesel</td>\n",
       "      <td>250Nm@2750rpm</td>\n",
       "      <td>...</td>\n",
       "      <td>1</td>\n",
       "      <td>1</td>\n",
       "      <td>0</td>\n",
       "      <td>1</td>\n",
       "      <td>1</td>\n",
       "      <td>3</td>\n",
       "      <td>0</td>\n",
       "      <td>11</td>\n",
       "      <td>mature</td>\n",
       "      <td>new</td>\n",
       "    </tr>\n",
       "    <tr>\n",
       "      <th>1</th>\n",
       "      <td>POL016745</td>\n",
       "      <td>8.2</td>\n",
       "      <td>1.8</td>\n",
       "      <td>35</td>\n",
       "      <td>C2</td>\n",
       "      <td>27003</td>\n",
       "      <td>C1</td>\n",
       "      <td>M9</td>\n",
       "      <td>Diesel</td>\n",
       "      <td>200Nm@1750rpm</td>\n",
       "      <td>...</td>\n",
       "      <td>1</td>\n",
       "      <td>1</td>\n",
       "      <td>1</td>\n",
       "      <td>1</td>\n",
       "      <td>1</td>\n",
       "      <td>4</td>\n",
       "      <td>0</td>\n",
       "      <td>6</td>\n",
       "      <td>middle</td>\n",
       "      <td>new</td>\n",
       "    </tr>\n",
       "    <tr>\n",
       "      <th>2</th>\n",
       "      <td>POL007194</td>\n",
       "      <td>9.5</td>\n",
       "      <td>0.2</td>\n",
       "      <td>44</td>\n",
       "      <td>C8</td>\n",
       "      <td>8794</td>\n",
       "      <td>C2</td>\n",
       "      <td>M4</td>\n",
       "      <td>Diesel</td>\n",
       "      <td>250Nm@2750rpm</td>\n",
       "      <td>...</td>\n",
       "      <td>1</td>\n",
       "      <td>1</td>\n",
       "      <td>0</td>\n",
       "      <td>1</td>\n",
       "      <td>1</td>\n",
       "      <td>3</td>\n",
       "      <td>0</td>\n",
       "      <td>11</td>\n",
       "      <td>mature</td>\n",
       "      <td>new</td>\n",
       "    </tr>\n",
       "    <tr>\n",
       "      <th>3</th>\n",
       "      <td>POL018146</td>\n",
       "      <td>5.2</td>\n",
       "      <td>0.4</td>\n",
       "      <td>44</td>\n",
       "      <td>C10</td>\n",
       "      <td>73430</td>\n",
       "      <td>A</td>\n",
       "      <td>M1</td>\n",
       "      <td>CNG</td>\n",
       "      <td>60Nm@3500rpm</td>\n",
       "      <td>...</td>\n",
       "      <td>1</td>\n",
       "      <td>0</td>\n",
       "      <td>0</td>\n",
       "      <td>0</td>\n",
       "      <td>1</td>\n",
       "      <td>0</td>\n",
       "      <td>0</td>\n",
       "      <td>2</td>\n",
       "      <td>mature</td>\n",
       "      <td>new</td>\n",
       "    </tr>\n",
       "    <tr>\n",
       "      <th>4</th>\n",
       "      <td>POL049011</td>\n",
       "      <td>10.1</td>\n",
       "      <td>1.0</td>\n",
       "      <td>56</td>\n",
       "      <td>C13</td>\n",
       "      <td>5410</td>\n",
       "      <td>B2</td>\n",
       "      <td>M5</td>\n",
       "      <td>Diesel</td>\n",
       "      <td>200Nm@3000rpm</td>\n",
       "      <td>...</td>\n",
       "      <td>1</td>\n",
       "      <td>0</td>\n",
       "      <td>0</td>\n",
       "      <td>1</td>\n",
       "      <td>1</td>\n",
       "      <td>5</td>\n",
       "      <td>0</td>\n",
       "      <td>7</td>\n",
       "      <td>mature</td>\n",
       "      <td>new</td>\n",
       "    </tr>\n",
       "  </tbody>\n",
       "</table>\n",
       "<p>5 rows × 44 columns</p>\n",
       "</div>"
      ],
      "text/plain": [
       "   policy_id  subscription_length  vehicle_age  customer_age region_code  \\\n",
       "0  POL045360                  9.3          1.2            41          C8   \n",
       "1  POL016745                  8.2          1.8            35          C2   \n",
       "2  POL007194                  9.5          0.2            44          C8   \n",
       "3  POL018146                  5.2          0.4            44         C10   \n",
       "4  POL049011                 10.1          1.0            56         C13   \n",
       "\n",
       "   region_density segment model fuel_type     max_torque  ...  \\\n",
       "0            8794      C2    M4    Diesel  250Nm@2750rpm  ...   \n",
       "1           27003      C1    M9    Diesel  200Nm@1750rpm  ...   \n",
       "2            8794      C2    M4    Diesel  250Nm@2750rpm  ...   \n",
       "3           73430       A    M1       CNG   60Nm@3500rpm  ...   \n",
       "4            5410      B2    M5    Diesel  200Nm@3000rpm  ...   \n",
       "\n",
       "  is_power_steering is_driver_seat_height_adjustable  \\\n",
       "0                 1                                1   \n",
       "1                 1                                1   \n",
       "2                 1                                1   \n",
       "3                 1                                0   \n",
       "4                 1                                0   \n",
       "\n",
       "   is_day_night_rear_view_mirror  is_ecw  is_speed_alert  ncap_rating  \\\n",
       "0                              0       1               1            3   \n",
       "1                              1       1               1            4   \n",
       "2                              0       1               1            3   \n",
       "3                              0       0               1            0   \n",
       "4                              0       1               1            5   \n",
       "\n",
       "   claim_status  safety_score age_risk  vehicle_age_category  \n",
       "0             0            11   mature                   new  \n",
       "1             0             6   middle                   new  \n",
       "2             0            11   mature                   new  \n",
       "3             0             2   mature                   new  \n",
       "4             0             7   mature                   new  \n",
       "\n",
       "[5 rows x 44 columns]"
      ]
     },
     "execution_count": 1,
     "metadata": {},
     "output_type": "execute_result"
    }
   ],
   "source": [
    "import pandas as pd\n",
    "import numpy as np\n",
    "\n",
    "df = pd.read_csv('../data/processed/cleaned_data.csv')\n",
    "print(f\"Loaded {len(df)} policies\")\n",
    "df.head()"
   ]
  },
  {
   "cell_type": "markdown",
   "id": "6c5420dc",
   "metadata": {},
   "source": [
    "## 2. Design Summary Template"
   ]
  },
  {
   "cell_type": "code",
   "execution_count": 2,
   "id": "16917d30",
   "metadata": {},
   "outputs": [
    {
     "name": "stdout",
     "output_type": "stream",
     "text": [
      "Sample summary:\n",
      "A 41-year-old driver in region C8 with a 1.2-year-old Diesel M4. Vehicle has 6 airbags and ESC, brake assist, parking sensors. NCAP rating: 3 stars. Policy: 9.3 months. Claim filed: No.\n"
     ]
    }
   ],
   "source": [
    "def create_policy_summary(row):\n",
    "    \"\"\"Convert structured data row into natural language\"\"\"\n",
    "    \n",
    "    # Safety features\n",
    "    safety_features = []\n",
    "    if row['is_esc'] == 1:\n",
    "        safety_features.append('ESC')\n",
    "    if row['is_brake_assist'] == 1:\n",
    "        safety_features.append('brake assist')\n",
    "    if row['is_parking_sensors'] == 1:\n",
    "        safety_features.append('parking sensors')\n",
    "    \n",
    "    safety_text = ', '.join(safety_features) if safety_features else 'basic safety'\n",
    "    \n",
    "    # Build the summary\n",
    "    summary = (\n",
    "        f\"A {row['customer_age']}-year-old driver in region {row['region_code']} \"\n",
    "        f\"with a {row['vehicle_age']}-year-old {row['fuel_type']} {row['model']}. \"\n",
    "        f\"Vehicle has {row['airbags']} airbags and {safety_text}. \"\n",
    "        f\"NCAP rating: {row['ncap_rating']} stars. \"\n",
    "        f\"Policy: {row['subscription_length']} months. \"\n",
    "        f\"Claim filed: {'Yes' if row['claim_status'] == 1 else 'No'}.\"\n",
    "    )\n",
    "    \n",
    "    return summary\n",
    "\n",
    "# Test on one row\n",
    "sample_summary = create_policy_summary(df.iloc[0])\n",
    "print(\"Sample summary:\")\n",
    "print(sample_summary)"
   ]
  },
  {
   "cell_type": "markdown",
   "id": "42f9bd06",
   "metadata": {},
   "source": [
    "## 3. Generate All Summaries"
   ]
  },
  {
   "cell_type": "code",
   "execution_count": 7,
   "id": "2b148401",
   "metadata": {},
   "outputs": [
    {
     "name": "stdout",
     "output_type": "stream",
     "text": [
      "Generating summaries...\n",
      "✓ Created 58592 summaries\n",
      "\n",
      "First 3 summaries:\n",
      "\n",
      "1. A 41-year-old driver in region C8 with a 1.2-year-old Diesel M4. Vehicle has 6 airbags and ESC, brake assist, parking sensors. NCAP rating: 3 stars. Policy: 9.3 months. Claim filed: No.\n",
      "\n",
      "2. A 35-year-old driver in region C2 with a 1.8-year-old Diesel M9. Vehicle has 2 airbags and parking sensors. NCAP rating: 4 stars. Policy: 8.2 months. Claim filed: No.\n",
      "\n",
      "3. A 44-year-old driver in region C8 with a 0.2-year-old Diesel M4. Vehicle has 6 airbags and ESC, brake assist, parking sensors. NCAP rating: 3 stars. Policy: 9.5 months. Claim filed: No.\n"
     ]
    }
   ],
   "source": [
    "# Apply to all rows (this might take a minute)\n",
    "print(\"Generating summaries...\")\n",
    "df['summary'] = df.apply(create_policy_summary, axis=1)\n",
    "\n",
    "print(f\"✓ Created {len(df)} summaries\")\n",
    "print(\"\\nFirst 3 summaries:\")\n",
    "for i, summary in enumerate(df['summary'].head(3)):\n",
    "    print(f\"\\n{i+1}. {summary}\")"
   ]
  },
  {
   "cell_type": "code",
   "execution_count": 1,
   "id": "8a07f20a",
   "metadata": {},
   "outputs": [
    {
     "ename": "NameError",
     "evalue": "name 'df' is not defined",
     "output_type": "error",
     "traceback": [
      "\u001b[31m---------------------------------------------------------------------------\u001b[39m",
      "\u001b[31mNameError\u001b[39m                                 Traceback (most recent call last)",
      "\u001b[36mCell\u001b[39m\u001b[36m \u001b[39m\u001b[32mIn[1]\u001b[39m\u001b[32m, line 2\u001b[39m\n\u001b[32m      1\u001b[39m \u001b[38;5;66;03m# Filter only rows where a claim was filed\u001b[39;00m\n\u001b[32m----> \u001b[39m\u001b[32m2\u001b[39m claims_yes = \u001b[43mdf\u001b[49m[df[\u001b[33m'\u001b[39m\u001b[33mclaim_status\u001b[39m\u001b[33m'\u001b[39m] == \u001b[32m1\u001b[39m]\n\u001b[32m      5\u001b[39m \u001b[38;5;66;03m# Show top few with summaries\u001b[39;00m\n\u001b[32m      6\u001b[39m \u001b[38;5;28mprint\u001b[39m(\u001b[33m\"\u001b[39m\u001b[33m✅ Claims Filed (Sample):\u001b[39m\u001b[33m\"\u001b[39m)\n",
      "\u001b[31mNameError\u001b[39m: name 'df' is not defined"
     ]
    }
   ],
   "source": [
    "# Filter only rows where a claim was filed\n",
    "claims_yes = df[df['claim_status'] == 1]\n",
    "\n",
    "\n",
    "# Show top few with summaries\n",
    "print(\"✅ Claims Filed (Sample):\")\n",
    "display(claims_yes[['policy_id', 'customer_age', 'vehicle_age', 'model', 'fuel_type', 'ncap_rating', 'summary']].head(5))\n"
   ]
  },
  {
   "cell_type": "code",
   "execution_count": 6,
   "id": "e677f25f",
   "metadata": {},
   "outputs": [
    {
     "name": "stdout",
     "output_type": "stream",
     "text": [
      "Total claims filed: 3748\n",
      "Percentage of policies with claims: 6.40%\n"
     ]
    }
   ],
   "source": [
    "# Total number of claims filed\n",
    "total_claims = df['claim_status'].sum()\n",
    "print(f\"Total claims filed: {total_claims}\")\n",
    "\n",
    "# Percentage of claims filed\n",
    "claim_percent = (total_claims / len(df)) * 100\n",
    "print(f\"Percentage of policies with claims: {claim_percent:.2f}%\")\n"
   ]
  },
  {
   "cell_type": "markdown",
   "id": "c8785614",
   "metadata": {},
   "source": [
    "## 4. Quality Check"
   ]
  },
  {
   "cell_type": "code",
   "execution_count": 8,
   "id": "aeafc897",
   "metadata": {},
   "outputs": [
    {
     "name": "stdout",
     "output_type": "stream",
     "text": [
      "Summary statistics:\n",
      "count    58592.000000\n",
      "mean       174.777171\n",
      "std          9.989008\n",
      "min        163.000000\n",
      "25%        164.000000\n",
      "50%        180.000000\n",
      "75%        185.000000\n",
      "max        189.000000\n",
      "Name: summary_length, dtype: float64\n",
      "\n",
      "Longest summary:\n",
      "A 49-year-old driver in region C12 with a 1.6-year-old Petrol M11. Vehicle has 2 airbags and ESC, brake assist, parking sensors. NCAP rating: 5 stars. Policy: 12.0 months. Claim filed: Yes.\n"
     ]
    }
   ],
   "source": [
    "# Check summary lengths\n",
    "df['summary_length'] = df['summary'].str.len()\n",
    "\n",
    "print(\"Summary statistics:\")\n",
    "print(df['summary_length'].describe())\n",
    "\n",
    "print(\"\\nLongest summary:\")\n",
    "print(df.loc[df['summary_length'].idxmax(), 'summary'])"
   ]
  },
  {
   "cell_type": "markdown",
   "id": "498d1db4",
   "metadata": {},
   "source": [
    "## 5. Save Enhanced Dataset"
   ]
  },
  {
   "cell_type": "code",
   "execution_count": 9,
   "id": "531c0d82",
   "metadata": {},
   "outputs": [
    {
     "name": "stdout",
     "output_type": "stream",
     "text": [
      "✓ Saved to ../data/processed/data_with_summaries.csv\n",
      "Columns: ['policy_id', 'subscription_length', 'vehicle_age', 'customer_age', 'region_code', 'region_density', 'segment', 'model', 'fuel_type', 'max_torque', 'max_power', 'engine_type', 'airbags', 'is_esc', 'is_adjustable_steering', 'is_tpms', 'is_parking_sensors', 'is_parking_camera', 'rear_brakes_type', 'displacement', 'cylinder', 'transmission_type', 'steering_type', 'turning_radius', 'length', 'width', 'gross_weight', 'is_front_fog_lights', 'is_rear_window_wiper', 'is_rear_window_washer', 'is_rear_window_defogger', 'is_brake_assist', 'is_power_door_locks', 'is_central_locking', 'is_power_steering', 'is_driver_seat_height_adjustable', 'is_day_night_rear_view_mirror', 'is_ecw', 'is_speed_alert', 'ncap_rating', 'claim_status', 'safety_score', 'age_risk', 'vehicle_age_category', 'summary', 'summary_length']\n"
     ]
    }
   ],
   "source": [
    "# Save with summaries\n",
    "output_path = '../data/processed/data_with_summaries.csv'\n",
    "df.to_csv(output_path, index=False)\n",
    "\n",
    "print(f\"✓ Saved to {output_path}\")\n",
    "print(f\"Columns: {df.columns.tolist()}\")"
   ]
  }
 ],
 "metadata": {
  "kernelspec": {
   "display_name": "venv",
   "language": "python",
   "name": "python3"
  },
  "language_info": {
   "codemirror_mode": {
    "name": "ipython",
    "version": 3
   },
   "file_extension": ".py",
   "mimetype": "text/x-python",
   "name": "python",
   "nbconvert_exporter": "python",
   "pygments_lexer": "ipython3",
   "version": "3.12.2"
  }
 },
 "nbformat": 4,
 "nbformat_minor": 5
}
